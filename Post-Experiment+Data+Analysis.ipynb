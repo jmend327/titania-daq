{
 "cells": [
  {
   "cell_type": "markdown",
   "metadata": {},
   "source": [
    "# Titania Coatings - Post-Experiment Data Analysis\n",
    "This program is to take in data collected by the DAQ unit and output the results of that data, including plots and reductions\n",
    "\n",
    "Jesse Mendoza   \n",
    "August 2017"
   ]
  },
  {
   "cell_type": "markdown",
   "metadata": {},
   "source": [
    "## Preface\n",
    "When calling script from bash, include filename and the times that the UV light was turned on and when reduction stopped, in the following format. Please follow it exactly, punctuation and spaces and all: \n",
    "\n",
    "\\>> python PostExperimentDataAnalysis.py 'experimentdata.csv' '2:30PM-2:55PM' '3:15PM-3:43PM'"
   ]
  },
  {
   "cell_type": "markdown",
   "metadata": {},
   "source": [
    "## A. Retrieve and set-up data"
   ]
  },
  {
   "cell_type": "code",
   "execution_count": 27,
   "metadata": {
    "collapsed": false
   },
   "outputs": [],
   "source": [
    "import sys\n",
    "import pandas as pd\n",
    "import csv\n",
    "import matplotlib.pyplot as plt\n",
    "%matplotlib inline\n",
    "import datetime as dt   #https://docs.python.org/3/library/datetime.html\n",
    "import seaborn as sns\n",
    "import os\n",
    "import plotly\n",
    "import pylab\n",
    "import matplotlib.text as t\n"
   ]
  },
  {
   "cell_type": "code",
   "execution_count": 28,
   "metadata": {
    "collapsed": false
   },
   "outputs": [
    {
     "name": "stdout",
     "output_type": "stream",
     "text": [
      "  Sample Number                   Date&Time       NOx        NO      Events\n",
      "0             1  05/10/2017 10:23:30.436 AM   -0.4456    0.0476   DAQ Start\n",
      "1             2  05/10/2017 10:23:30.936 AM   -0.4822   -0.0354        None\n",
      "2             3  05/10/2017 10:23:31.436 AM   -0.3552   -0.0110        None\n"
     ]
    }
   ],
   "source": [
    "# Get file and its data and prepare for pandas dataframe\n",
    "\n",
    "#filename = sys.argv[1]\n",
    "#filename = '1-19-17 CE-CERT.csv'\n",
    "filename = 'Titania 5-10 Ferro(5) 50-50.csv'\n",
    "header_size=8\n",
    "\n",
    "\n",
    "def data_no_header(filename,header_size):\n",
    "    dataset = open(filename,'r')\n",
    "    dataset = list(csv.reader(dataset))\n",
    "    dataset = dataset[header_size:]\n",
    "    return dataset\n",
    "\n",
    "\n",
    "dataset = pd.DataFrame(data_no_header(filename,header_size),columns =['Sample Number','Date&Time','NOx','NO','Events'])\n",
    "\n",
    "print(dataset.head(3))"
   ]
  },
  {
   "cell_type": "code",
   "execution_count": 29,
   "metadata": {
    "collapsed": false
   },
   "outputs": [
    {
     "name": "stdout",
     "output_type": "stream",
     "text": [
      "0   1900-01-01 10:23:30\n",
      "1   1900-01-01 10:23:30\n",
      "2   1900-01-01 10:23:31\n",
      "Name: Formatted DT, dtype: datetime64[ns]\n"
     ]
    }
   ],
   "source": [
    "# Convert Date&Time string to datetime object\n",
    "#https://docs.python.org/3/library/datetime.html#strftime-and-strptime-behavior\n",
    "\n",
    "\n",
    "def conv_daq_to_datetime_format(dt_row):\n",
    "    split_dt_row = dt_row.split(' ')\n",
    "    split_dt_second = split_dt_row[1].split('.')\n",
    "    formatted_daq_time = dt.datetime.strptime(split_dt_second[0]+' '+split_dt_row[2],'%I:%M:%S %p')\n",
    "    return formatted_daq_time\n",
    "\n",
    "\n",
    "formatted_dt = []\n",
    "for row in dataset['Date&Time']:\n",
    "    formatted_row = conv_daq_to_datetime_format(row)\n",
    "    formatted_dt.append(formatted_row)\n",
    "    \n",
    "dataset['Formatted DT'] = formatted_dt\n",
    "\n",
    "print(dataset['Formatted DT'].head(3))\n"
   ]
  },
  {
   "cell_type": "code",
   "execution_count": 30,
   "metadata": {
    "collapsed": false
   },
   "outputs": [
    {
     "name": "stdout",
     "output_type": "stream",
     "text": [
      "[(datetime.datetime(1900, 1, 1, 10, 28), datetime.datetime(1900, 1, 1, 10, 48))]\n"
     ]
    }
   ],
   "source": [
    "# Get how many experiments were conducted and at what times\n",
    "\n",
    "#reduction_times = sys.argv[2:]\n",
    "#reduction_times = ['2:14PM-2:32PM','3:09PM-3:22PM','3:51PM-4:05PM'] #OG\n",
    "#reduction_times = ['2:15PM-2:20PM','3:10PM-3:16PM','3:53PM-3:57PM']\n",
    "reduction_times = ['10:28AM-10:48AM']\n",
    "\n",
    "\n",
    "def conv_timearg_to_dt(timearg):\n",
    "    split_timearg = timearg.split('-')\n",
    "    ss1 = split_timearg[0]\n",
    "    ss2 = split_timearg[1]\n",
    "    ss1_formatted = dt.datetime.strptime(ss1,'%I:%M%p')\n",
    "    ss2_formatted = dt.datetime.strptime(ss2,'%I:%M%p')\n",
    "    return ss1_formatted,ss2_formatted\n",
    "\n",
    "\n",
    "formatted_reduction_times = []\n",
    "for time in reduction_times:\n",
    "    formatted_time = conv_timearg_to_dt(time)\n",
    "    formatted_reduction_times.append(formatted_time)\n",
    "\n",
    "print(formatted_reduction_times)"
   ]
  },
  {
   "cell_type": "code",
   "execution_count": 31,
   "metadata": {
    "collapsed": false
   },
   "outputs": [],
   "source": [
    "def get_duration(dt_object_col):\n",
    "    # returns duration in minutes starting from 0\n",
    "    dur_col=[]\n",
    "    time0 = dt_object_col[0].hour*60 + dt_object_col[0].minute + dt_object_col[0].second/60\n",
    "    for row in dt_object_col:\n",
    "        dur = row.hour*60 + row.minute + row.second/60 - time0\n",
    "        dur_col.append(dur)\n",
    "    return dur_col\n"
   ]
  },
  {
   "cell_type": "code",
   "execution_count": 32,
   "metadata": {
    "collapsed": false
   },
   "outputs": [
    {
     "name": "stdout",
     "output_type": "stream",
     "text": [
      "0    -2.819399\n",
      "1   -11.072670\n",
      "2    -8.646407\n",
      "3     7.860135\n",
      "Name: conv_NO, dtype: float64 \n",
      " 0   -43.733346\n",
      "1   -47.379657\n",
      "2   -34.727155\n",
      "3   -30.353574\n",
      "Name: conv_NOx, dtype: float64\n",
      "25   NaN\n",
      "26   NaN\n",
      "27   NaN\n",
      "28   NaN\n",
      "29   NaN\n",
      "30   NaN\n",
      "31   NaN\n",
      "32   NaN\n",
      "33   NaN\n",
      "34   NaN\n",
      "Name: conv_NO_smooth, dtype: float64\n"
     ]
    }
   ],
   "source": [
    "def conv_to_ppb(no,nox):\n",
    "    # no and nox represent columns of the raw no and nox daq data (in voltages)\n",
    "    #returns values converted to ppb from calibration\n",
    "    conv_no=[]\n",
    "    conv_nox=[]\n",
    "    for i,row in enumerate(no):\n",
    "        dq_no = row\n",
    "        dq_nox = nox[i]\n",
    "        converted_no = 99.437*float(dq_no) - 7.5526\n",
    "        converted_nox = 99.626*float(dq_nox) + 0.66\n",
    "        conv_no.append(converted_no)\n",
    "        conv_nox.append(converted_nox)\n",
    "    return conv_no,conv_nox\n",
    "\n",
    "\n",
    "converted_ppb = conv_to_ppb(dataset['NO'], dataset['NOx'])\n",
    "dataset['conv_NO'] = converted_ppb[0]\n",
    "dataset['conv_NOx'] = converted_ppb[1]\n",
    "print(dataset['conv_NO'].head(4),'\\n',dataset['conv_NOx'].head(4))\n",
    "\n",
    "\n",
    "#Moving avg\n",
    "win = 60 #moving window (in seconds) \n",
    "dataset['conv_NO_smooth'] = dataset['conv_NO'].rolling(window=win,win_type='boxcar').mean()\n",
    "dataset['conv_NOx_smooth'] = dataset['conv_NOx'].rolling(window=win,win_type='boxcar').mean()\n",
    "print(dataset['conv_NO_smooth'][25:35])\n"
   ]
  },
  {
   "cell_type": "code",
   "execution_count": 33,
   "metadata": {
    "collapsed": false
   },
   "outputs": [],
   "source": [
    "class Experiments():\n",
    "    #Creates instance for each experiment\n",
    "    '''\n",
    "    methods:\n",
    "    self.name\n",
    "    self.ss1\n",
    "    self.ss2\n",
    "    self.dataset\n",
    "    self.duration\n",
    "    self.no/x_max\n",
    "    self.no/x_min\n",
    "    self.no/x_reduction\n",
    "    '''\n",
    "    \n",
    "    def __init__(self):\n",
    "        #self.name = name\n",
    "        return\n",
    "    \n",
    "\n",
    "    def filt_times(self,exp_times,margin):\n",
    "        #filter out times not within experiment, times in dt format, margin argument in minutes\n",
    "        self.ss1 = exp_times[0]\n",
    "        self.ss2 = exp_times[1]\n",
    "        marg = dt.timedelta(seconds=margin*60)\n",
    "        \n",
    "        self.dataset = dataset[dataset['Formatted DT'] > (self.ss1-marg)]\n",
    "        self.dataset = self.dataset[dataset['Formatted DT'] < (self.ss2+marg)]\n",
    "\n",
    "\n",
    "    def get_duration(self,dt_col):\n",
    "        dur_col = []\n",
    "        time0 = dt_col.iloc[0]\n",
    "        for row in dt_col:\n",
    "            dur = row-time0\n",
    "            duration = dur.seconds/60\n",
    "            dur_col.append(round(float(duration),2))\n",
    "        self.duration = dur_col\n",
    "\n",
    "\n",
    "    def kinetics(self):\n",
    "        #1 - min/max\n",
    "        self.no_max = self.dataset['conv_NO_smooth'].max()\n",
    "        self.nox_max = self.dataset['conv_NOx_smooth'].max()\n",
    "        self.no_min = self.dataset['conv_NO_smooth'].min()\n",
    "        self.nox_min = self.dataset['conv_NOx_smooth'].min()\n",
    "        self.no_reduction = 1-(self.no_min/self.no_max)\n",
    "        self.nox_reduction = 1-(self.nox_min/self.nox_max)\n",
    "        "
   ]
  },
  {
   "cell_type": "code",
   "execution_count": 34,
   "metadata": {
    "collapsed": false
   },
   "outputs": [
    {
     "name": "stderr",
     "output_type": "stream",
     "text": [
      "/Users/Owner/anaconda/lib/python3.5/site-packages/ipykernel/__main__.py:27: UserWarning:\n",
      "\n",
      "Boolean Series key will be reindexed to match DataFrame index.\n",
      "\n"
     ]
    }
   ],
   "source": [
    "# Create class instance for each experiment\n",
    "exp_nums=['Exp1','Exp2','Exp3','Exp4','Exp5','Exp6','Exp7','Exp8']\n",
    "\n",
    "exps = [Experiments() for i in range(len(formatted_reduction_times))]\n",
    "for i,exp in enumerate(exps):\n",
    "    times = formatted_reduction_times[i]\n",
    "    exp.filt_times(times,0)\n",
    "    exp.get_duration(exp.dataset['Formatted DT'])\n",
    "    exp.kinetics()\n",
    "    exp.name=exp_nums[i]\n"
   ]
  },
  {
   "cell_type": "markdown",
   "metadata": {},
   "source": [
    "## B. Plot data"
   ]
  },
  {
   "cell_type": "code",
   "execution_count": 35,
   "metadata": {
    "collapsed": false
   },
   "outputs": [
    {
     "data": {
      "image/png": "[encoded data removed]",
      "text/plain": [
       "<matplotlib.figure.Figure at 0x1163602b0>"
      ]
     },
     "metadata": {},
     "output_type": "display_data"
    }
   ],
   "source": [
    "# Make plots\n",
    "\n",
    "for exp in exps:\n",
    "    sns.set_style('whitegrid')\n",
    "    \n",
    "    start_dt = str(exp.dataset['Date&Time'].iloc[0][0:16])+''+str(exp.dataset['Date&Time'].iloc[0][23:])\n",
    "    plt.title('NOx Reduction\\n'+'Experiment Starting @ '+ start_dt)\n",
    "    \n",
    "    no=plt.plot(exp.duration,exp.dataset['conv_NO_smooth'],label='NO')\n",
    "    nox=plt.plot(exp.duration,exp.dataset['conv_NOx_smooth'],label='NOx',color='r',linestyle='--')\n",
    "    \n",
    "    plt.xlabel('Duration (min)',size=12)\n",
    "    plt.ylabel('Concentration (ppb)',fontsize=12)\n",
    "    \n",
    "    plt.legend(loc='best')\n",
    "\n",
    "    plt.figtext(0.765,0.72,'Reductions', weight='bold')\n",
    "    plt.figtext(0.765,0.68,'NO: '+str(round(exp.no_reduction*100,1))+'%')\n",
    "    plt.figtext(0.765,0.64,'NOx: '+str(round(exp.nox_reduction*100,1))+'%')\n",
    "    \n",
    "    save_filename = str(start_dt[0:10]+'_'+exp.name).replace('/','-')\n",
    "    pylab.savefig('/Users/Owner/Google Drive/Titania/Data/plots/'+save_filename)\n",
    "    \n",
    "    plt.show()"
   ]
  },
  {
   "cell_type": "markdown",
   "metadata": {},
   "source": [
    "## C. Save results"
   ]
  },
  {
   "cell_type": "code",
   "execution_count": 36,
   "metadata": {
    "collapsed": false
   },
   "outputs": [],
   "source": [
    "# Create file with all relevant information\n"
   ]
  },
  {
   "cell_type": "code",
   "execution_count": 37,
   "metadata": {
    "collapsed": true
   },
   "outputs": [],
   "source": [
    "# Move products to appropriate directory"
   ]
  },
  {
   "cell_type": "code",
   "execution_count": 38,
   "metadata": {
    "collapsed": true
   },
   "outputs": [],
   "source": [
    "# Upload data to s3"
   ]
  }
 ],
 "metadata": {
  "anaconda-cloud": {},
  "kernelspec": {
   "display_name": "Python 3",
   "language": "python",
   "name": "python3"
  },
  "language_info": {
   "codemirror_mode": {
    "name": "ipython",
    "version": 3
   },
   "file_extension": ".py",
   "mimetype": "text/x-python",
   "name": "python",
   "nbconvert_exporter": "python",
   "pygments_lexer": "ipython3",
   "version": "3.5.2"
  }
 },
 "nbformat": 4,
 "nbformat_minor": 1
}
